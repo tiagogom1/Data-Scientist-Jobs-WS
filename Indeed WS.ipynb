{
 "cells": [
  {
   "cell_type": "code",
   "execution_count": 1,
   "metadata": {},
   "outputs": [],
   "source": [
    "#Search Data Scientist Jobs in NY\n",
    "import requests\n",
    "from bs4 import BeautifulSoup\n",
    "import pandas as pd\n",
    "import re"
   ]
  },
  {
   "cell_type": "code",
   "execution_count": 2,
   "metadata": {},
   "outputs": [],
   "source": [
    "def getInfo(postings_desc, postings_link):    \n",
    "    title = []\n",
    "    is_new = []\n",
    "    link = []\n",
    "    company = []\n",
    "    rating = []\n",
    "    location = []\n",
    "    post_date = []\n",
    "\n",
    "    for post in postings_desc:\n",
    "        elem = post.find_all(\"span\")\n",
    "        if elem[0].text==\"new\":\n",
    "            is_new.append(\"Y\")\n",
    "            title.append(elem[1].text)\n",
    "        else:\n",
    "            is_new.append(\"N\")\n",
    "            title.append(elem[0].text)\n",
    "            \n",
    "        company.append(post.find(\"span\", attrs={\"class\", \"companyName\"}).text)\n",
    "\n",
    "        if post.find(\"span\", attrs={\"class\", \"ratingNumber\"}) == None:\n",
    "            rating.append(\"\")\n",
    "        else:\n",
    "            rating.append(post.find(\"span\", attrs={\"class\", \"ratingNumber\"}).text)\n",
    "\n",
    "        location.append(post.find(\"div\", attrs={\"class\", \"companyLocation\"}).text)\n",
    "\n",
    "        post_date.append(post.find(\"span\", attrs={\"class\", \"date\"}).text.replace(\"Posted\", \"\").replace(\"EmployerActive \", \"\"))\n",
    "\n",
    "    # for post in postings_link:\n",
    "    #     link.append(post[\"href\"].replace(\"/rc/clk\", \"indeed.com/viewjob\"))\n",
    "\n",
    "    post_date_num = []\n",
    "    for date in post_date:\n",
    "        if date == \"Today\":\n",
    "            post_date_num.append(0)\n",
    "        elif date == \"Just posted\":\n",
    "            post_date_num.append(-1)\n",
    "        elif date == \"Hiring ongoing\":\n",
    "            post_date_num.append(-2)\n",
    "        else:\n",
    "            post_date_num.append(int(date[:2].replace(\" \", \"\")))\n",
    "\n",
    "    job_postings = pd.DataFrame(title, columns=[\"Title\"])\n",
    "    job_postings[\"Company\"] = company\n",
    "    job_postings[\"Rating\"] = rating\n",
    "    job_postings[\"Location\"] = location\n",
    "    job_postings[\"Is New?\"] = is_new\n",
    "    job_postings[\"Aging\"] = post_date\n",
    "    job_postings[\"Sort_Key\"] = post_date_num\n",
    "    # job_postings[\"Link\"] = link\n",
    "\n",
    "    return job_postings"
   ]
  },
  {
   "cell_type": "code",
   "execution_count": 3,
   "metadata": {},
   "outputs": [],
   "source": [
    "def website_query(url, short_url, save_name):  \n",
    "    current_page = 1\n",
    "\n",
    "    while True:\n",
    "        if current_page>1:\n",
    "            if soup.find(\"a\", {\"aria-label\":str(current_page)}) is None:\n",
    "                break\n",
    "            else:\n",
    "                url=short_url+soup.find(\"a\", {\"aria-label\":str(current_page)})[\"href\"]\n",
    "\n",
    "        response = requests.get(url)\n",
    "        soup = BeautifulSoup(response.text,features=\"html.parser\")\n",
    "\n",
    "        postings_link = soup.find_all(\"a\", {\"class\":\"jcs-JobTitle\"})\n",
    "        postings_desc = soup.find_all(\"div\", {\"class\":\"job_seen_beacon\"})\n",
    "\n",
    "        if current_page == 1:\n",
    "            complete_postings = getInfo(postings_desc, postings_link)\n",
    "        else:\n",
    "            complete_postings = pd.concat([complete_postings, getInfo(postings_desc, postings_link)], ignore_index=True)\n",
    "\n",
    "        current_page+=1\n",
    "\n",
    "\n",
    "\n",
    "    complete_postings.sort_values(by=['Sort_Key'], inplace=True)\n",
    "    complete_postings.drop(\"Sort_Key\", axis=1, inplace=True)\n",
    "\n",
    "    complete_postings = complete_postings.loc[(complete_postings.Aging != \"30+ days ago\") & (complete_postings.Rating != \"\")]\n",
    "\n",
    "    complete_postings.reset_index(drop=True, inplace=True)\n",
    "\n",
    "    complete_postings.to_excel(\"Job Postings_\"+save_name+\".xlsx\", index=False)"
   ]
  },
  {
   "cell_type": "code",
   "execution_count": 4,
   "metadata": {},
   "outputs": [],
   "source": [
    "website_query(\"https://www.indeed.com/jobs?q=data%20scientist&l=New%20York%2C%20NY\", \n",
    "    \"https://www.indeed.com\", \"Data Scientist_NY\")\n",
    "\n",
    "website_query(\"https://uk.indeed.com/jobs?q=data%20scientist&l=London%2C%20Greater%20London\", \n",
    "    \"https://uk.indeed.com\", \"Data Scientist_London\")"
   ]
  }
 ],
 "metadata": {
  "interpreter": {
   "hash": "35fd2de88fbd2a997d5c561d77dffe47084d2efe816fa10788b978a50631c1b4"
  },
  "kernelspec": {
   "display_name": "Python 3.10.2 64-bit (system)",
   "language": "python",
   "name": "python3"
  },
  "language_info": {
   "codemirror_mode": {
    "name": "ipython",
    "version": 3
   },
   "file_extension": ".py",
   "mimetype": "text/x-python",
   "name": "python",
   "nbconvert_exporter": "python",
   "pygments_lexer": "ipython3",
   "version": "3.10.2"
  },
  "orig_nbformat": 4
 },
 "nbformat": 4,
 "nbformat_minor": 2
}
