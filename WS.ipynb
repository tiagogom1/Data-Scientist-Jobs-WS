{
 "cells": [
  {
   "cell_type": "code",
   "execution_count": 1,
   "metadata": {},
   "outputs": [],
   "source": [
    "import requests\n",
    "from bs4 import BeautifulSoup"
   ]
  },
  {
   "cell_type": "code",
   "execution_count": 21,
   "metadata": {},
   "outputs": [
    {
     "name": "stdout",
     "output_type": "stream",
     "text": [
      "200\n"
     ]
    }
   ],
   "source": [
    "headers = {'User-Agent': 'Mozilla/5.0 (Windows NT 10.0; Win64; x64) AppleWebKit/537.36 (KHTML, like Gecko) Chrome/100.0.4896.127 Safari/537.36'}\n",
    "response = requests.get(\"https://www.zomato.com/bangalore/top-restaurants\", headers=headers)\n",
    "print(response.status_code)"
   ]
  },
  {
   "cell_type": "code",
   "execution_count": 22,
   "metadata": {},
   "outputs": [],
   "source": [
    "content = response.content\n",
    "soup = BeautifulSoup(content, \"html.parser\")"
   ]
  },
  {
   "cell_type": "code",
   "execution_count": 35,
   "metadata": {},
   "outputs": [],
   "source": [
    "top_rest = soup.find_all(\"section\",attrs={\"class\": \"sc-jWNpPo igeuUT\"})"
   ]
  },
  {
   "cell_type": "code",
   "execution_count": 61,
   "metadata": {},
   "outputs": [
    {
     "data": {
      "text/plain": [
       "[{'rest_name': 'Shaken & Stirred',\n",
       "  'rest_address': 'Race Course Road, Bangalore',\n",
       "  'cuisine_type': 'Continental, North Indian, Chinese, Seafood, Desserts, Beverages'},\n",
       " {'rest_name': \"Gilly's Resto Bar\",\n",
       "  'rest_address': 'St. Marks Road, Bangalore',\n",
       "  'cuisine_type': 'Finger Food, North Indian, Oriental, Seafood, Continental, Beverages'},\n",
       " {'rest_name': 'One For The Road',\n",
       "  'rest_address': 'Whitefield, Bangalore',\n",
       "  'cuisine_type': 'North Indian, Continental, Seafood'},\n",
       " {'rest_name': 'TBC- Sky Lounge',\n",
       "  'rest_address': 'Kadubeesanahalli, Bangalore',\n",
       "  'cuisine_type': 'Continental, Asian, Italian, North Indian'},\n",
       " {'rest_name': 'Big Barrel BrewPub',\n",
       "  'rest_address': 'Rajarajeshwari Nagar, Bangalore',\n",
       "  'cuisine_type': 'Continental, North Indian, Chinese, Mexican, Italian, Beverages'},\n",
       " {'rest_name': 'Halli Mane Donne Biriyani Nati Style',\n",
       "  'rest_address': 'Vijay Nagar, Bangalore',\n",
       "  'cuisine_type': 'Biryani, Chinese, Lebanese'},\n",
       " {'rest_name': 'Delistic - Chocolaterie, Patisserie & Cafe',\n",
       "  'rest_address': 'St. Marks Road, Bangalore',\n",
       "  'cuisine_type': 'Cafe, Bakery, Fast Food, Beverages'},\n",
       " {'rest_name': 'Cuppa Redefined',\n",
       "  'rest_address': 'Yeshwantpur, Bangalore',\n",
       "  'cuisine_type': 'Continental, Fast Food, Healthy Food, Desserts, Beverages'},\n",
       " {'rest_name': 'Paradise Biryani',\n",
       "  'rest_address': 'Whitefield, Bangalore',\n",
       "  'cuisine_type': 'Biryani, North Indian, Kebab'},\n",
       " {'rest_name': 'Udupi Garden Veg',\n",
       "  'rest_address': 'Jalahalli, Bangalore',\n",
       "  'cuisine_type': 'South Indian, North Indian, Chinese, Street Food, Beverages'},\n",
       " {'rest_name': 'Biryani By Kilo',\n",
       "  'rest_address': 'Marathahalli, Bangalore',\n",
       "  'cuisine_type': 'Biryani, Mughlai, Kebab, Hyderabadi, Desserts, Beverages'},\n",
       " {'rest_name': 'Hyderabadi Biryani Utsav',\n",
       "  'rest_address': 'Old Madras Road, Bangalore',\n",
       "  'cuisine_type': 'Biryani, Hyderabadi, North Indian, Chinese'},\n",
       " {'rest_name': 'Moto Store & Café',\n",
       "  'rest_address': 'Yelahanka, Bangalore',\n",
       "  'cuisine_type': 'Cafe, Pizza, Fast Food, Desserts, Beverages, Shake'},\n",
       " {'rest_name': 'Taco Bell',\n",
       "  'rest_address': 'Elements Mall, Nagawara, Bangalore',\n",
       "  'cuisine_type': 'Mexican, Fast Food, Wraps, Beverages'},\n",
       " {'rest_name': 'Kudla - Coraltree',\n",
       "  'rest_address': 'Coraltree, RT Nagar, Bangalore',\n",
       "  'cuisine_type': 'Seafood, Mangalorean, Beverages'},\n",
       " {'rest_name': 'Gatsby',\n",
       "  'rest_address': 'Bannerghatta Road, Bangalore',\n",
       "  'cuisine_type': 'Bar Food, Italian, Continental, Pizza, Desserts, North Indian, Asian, Chinese'},\n",
       " {'rest_name': 'Casinova Pub and Kitchen',\n",
       "  'rest_address': 'Koramangala 5th Block, Bangalore',\n",
       "  'cuisine_type': 'Bar Food, Italian, North Indian, Continental, BBQ, Asian'},\n",
       " {'rest_name': 'Casa Piccosa',\n",
       "  'rest_address': 'Bommasandra, Bangalore',\n",
       "  'cuisine_type': 'North Indian, Italian, Chinese, Desserts'},\n",
       " {'rest_name': 'alt',\n",
       "  'rest_address': 'KR Puram, Bangalore',\n",
       "  'cuisine_type': 'Finger Food, Continental, Seafood, Beverages'},\n",
       " {'rest_name': 'Great Room - Holiday Inn Express & Suites',\n",
       "  'rest_address': 'KR Puram, Bangalore',\n",
       "  'cuisine_type': 'North Indian, Chinese, Continental, Desserts, Beverages, Bar Food, Biryani'},\n",
       " {'rest_name': 'Biriyani Zone',\n",
       "  'rest_address': 'HSR, Bangalore',\n",
       "  'cuisine_type': 'Biryani, North Indian, Chinese, Mughlai, Kebab, Seafood, Ice Cream, Beverages'},\n",
       " {'rest_name': 'Vidyarthi Bhavan',\n",
       "  'rest_address': 'Basavanagudi, Bangalore',\n",
       "  'cuisine_type': 'South Indian'},\n",
       " {'rest_name': 'Empire Restaurant',\n",
       "  'rest_address': 'Uttarahalli, Bangalore',\n",
       "  'cuisine_type': 'North Indian, Biryani, Kebab, Chinese, South Indian, Beverages'},\n",
       " {'rest_name': 'Pinds Of Punjab',\n",
       "  'rest_address': 'KR Puram, Bangalore',\n",
       "  'cuisine_type': 'North Indian, Fast Food'},\n",
       " {'rest_name': 'Starbucks Coffee',\n",
       "  'rest_address': 'Orion Mall, Malleshwaram, Bangalore',\n",
       "  'cuisine_type': 'Coffee, Desserts, Beverages'},\n",
       " {'rest_name': 'Sky Lounge By Wall Street',\n",
       "  'rest_address': 'JP Nagar, Bangalore',\n",
       "  'cuisine_type': 'Continental, North Indian, Chinese, Fast Food, Pizza, Italian, Beverages'},\n",
       " {'rest_name': 'Gokul Veg',\n",
       "  'rest_address': 'Basavanagudi, Bangalore',\n",
       "  'cuisine_type': 'North Indian, Chinese, Beverages, Shake'},\n",
       " {'rest_name': 'Ambur Star Briyani Since 1890',\n",
       "  'rest_address': 'Koramangala 5th Block, Bangalore',\n",
       "  'cuisine_type': 'Biryani, Chettinad, Chinese'},\n",
       " {'rest_name': 'Iyer Idly',\n",
       "  'rest_address': 'Thippasandra, Bangalore',\n",
       "  'cuisine_type': 'South Indian'},\n",
       " {'rest_name': 'Leon Grill',\n",
       "  'rest_address': 'Indiranagar, Bangalore',\n",
       "  'cuisine_type': 'Burger, Fast Food, Wraps, Street Food, Desserts, Beverages'}]"
      ]
     },
     "execution_count": 61,
     "metadata": {},
     "output_type": "execute_result"
    }
   ],
   "source": [
    "list_rest =[]\n",
    "for rest in top_rest:\n",
    "    dataframe ={}\n",
    "    dataframe[\"rest_name\"] = (rest.find(\"a\",attrs={\"class\": \"sc-bvgyVn sc-cgOEUd cMMmCQ\"})).text.replace('\\n', ' ')\n",
    "    dataframe[\"rest_address\"] = \", \".join([str(cuisine.text.replace('\\xa0', ' ')) for cuisine in rest.find_all(\"div\",attrs={\"class\":\"sc-iVYKXj bWFQyf\"})][1:])\n",
    "    dataframe[\"cuisine_type\"] = \", \".join([str(cuisine.text.replace('\\xa0', ' ')) for cuisine in rest.find_all(\"div\",attrs={\"class\":\"sc-iVYKXj bWFQyf\"})][:1])\n",
    "    list_rest.append(dataframe)\n",
    "list_rest "
   ]
  }
 ],
 "metadata": {
  "interpreter": {
   "hash": "35fd2de88fbd2a997d5c561d77dffe47084d2efe816fa10788b978a50631c1b4"
  },
  "kernelspec": {
   "display_name": "Python 3.10.2 64-bit (system)",
   "language": "python",
   "name": "python3"
  },
  "language_info": {
   "codemirror_mode": {
    "name": "ipython",
    "version": 3
   },
   "file_extension": ".py",
   "mimetype": "text/x-python",
   "name": "python",
   "nbconvert_exporter": "python",
   "pygments_lexer": "ipython3",
   "version": "3.10.2"
  },
  "orig_nbformat": 4
 },
 "nbformat": 4,
 "nbformat_minor": 2
}
